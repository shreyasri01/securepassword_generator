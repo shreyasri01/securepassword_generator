{
 "cells": [
  {
   "cell_type": "code",
   "execution_count": 1,
   "id": "6eae715b",
   "metadata": {},
   "outputs": [],
   "source": [
    "import random as ram\n"
   ]
  },
  {
   "cell_type": "code",
   "execution_count": 21,
   "id": "3f924fb2",
   "metadata": {},
   "outputs": [],
   "source": [
    "def password():\n",
    "    upper_Case = ['A','B','C','D','E','F','G','H','I','J','K','L','M','N','O','P','Q','R','S','T','U','V','W','X','Y','Z']\n",
    "    lower_Case = ['a','b','c','d','e','f','g','h','i','j','k','l','m','n','o','p','q','r','s','t','u','v','w','x','y','z']\n",
    "    numbers = ['1','2','3','4','5','6','7','8','9','0']\n",
    "    special = ['!','@','#','$','%','&']\n",
    "    password1 = ram.choice(lower_Case)+ram.choice(upper_Case)+ram.choice(numbers)+ram.choice(lower_Case)+ram.choice(special)\n",
    "    password2 = ram.choice(lower_Case)+ram.choice(upper_Case)+ram.choice(numbers)+ram.choice(lower_Case)+ram.choice(special)\n",
    "    print(password1 + password2)\n"
   ]
  },
  {
   "cell_type": "code",
   "execution_count": 22,
   "id": "792c85ab",
   "metadata": {},
   "outputs": [
    {
     "name": "stdout",
     "output_type": "stream",
     "text": [
      "oX7s&qO3b!\n"
     ]
    }
   ],
   "source": [
    "password()"
   ]
  },
  {
   "cell_type": "code",
   "execution_count": null,
   "id": "6f7e511f",
   "metadata": {},
   "outputs": [],
   "source": []
  },
  {
   "cell_type": "code",
   "execution_count": null,
   "id": "1a00e62a",
   "metadata": {},
   "outputs": [],
   "source": []
  },
  {
   "cell_type": "code",
   "execution_count": null,
   "id": "9b4a99fb",
   "metadata": {},
   "outputs": [],
   "source": []
  },
  {
   "cell_type": "code",
   "execution_count": null,
   "id": "ee8d108d",
   "metadata": {},
   "outputs": [],
   "source": []
  }
 ],
 "metadata": {
  "kernelspec": {
   "display_name": "Python 3 (ipykernel)",
   "language": "python",
   "name": "python3"
  },
  "language_info": {
   "codemirror_mode": {
    "name": "ipython",
    "version": 3
   },
   "file_extension": ".py",
   "mimetype": "text/x-python",
   "name": "python",
   "nbconvert_exporter": "python",
   "pygments_lexer": "ipython3",
   "version": "3.9.12"
  }
 },
 "nbformat": 4,
 "nbformat_minor": 5
}
